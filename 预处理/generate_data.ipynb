{
 "cells": [
  {
   "cell_type": "code",
   "execution_count": null,
   "metadata": {},
   "outputs": [],
   "source": [
    "import pandas as pd\n",
    "import numpy as np\n",
    "import itertools\n",
    "from matplotlib import pyplot as plt\n",
    "import os\n",
    "from math import sqrt\n",
    "import random\n",
    "from tqdm import tqdm\n"
   ]
  },
  {
   "cell_type": "code",
   "execution_count": 5,
   "metadata": {},
   "outputs": [
    {
     "name": "stdout",
     "output_type": "stream",
     "text": [
      "[2, 1]\n"
     ]
    }
   ],
   "source": [
    "day = [2]\n",
    "d1 = []\n",
    "day.append(len(d1) if len(d1)>1 else 1)\n",
    "print(day)"
   ]
  },
  {
   "cell_type": "code",
   "execution_count": null,
   "metadata": {},
   "outputs": [],
   "source": [
    "data = pd.read_csv('.//1_pred.csv')  # 就是附件1\n",
    "data = data.sort_index()  # 整理索引 防止索引乱序\n",
    "data_n = pd.DataFrame(data,columns =[\"user_id\",\"metrics\",\"ds\",\"value_avg\"])\n",
    "user_id_list = list(set(data['user_id'].tolist()))\n",
    "metrics_list=[\"1,1,1\",\"4,1,1\",\"4,1,3\",\"4,1,4\",\"13,1,6\",\"13,1,9\",\"13,1,7\",\"1,1,3\"]\n",
    "user_id_list = list(set(data['user_id'].tolist()))\n",
    "metrics_list=[\"1,1,1\",\"4,1,1\",\"4,1,3\",\"4,1,4\",\"13,1,6\",\"13,1,9\",\"13,1,7\",\"1,1,3\"]"
   ]
  },
  {
   "cell_type": "code",
   "execution_count": null,
   "metadata": {},
   "outputs": [],
   "source": [
    "all_info = []\n",
    "maxlen = 128\n",
    "for user_id in tqdm(user_id_list):\n",
    "    m = []\n",
    "    num = 0\n",
    "    for metric in metrics_list:\n",
    "        d1 = np.array(data_n.loc[(data['user_id'] == user_id) & (\n",
    "            data_n['metrics'] == metric), 'value_avg']).tolist()\n",
    "        if len(d1)<2:\n",
    "            m.append(np.zeros(maxlen))\n",
    "            continue\n",
    "        dn = d1[-1]\n",
    "        d1.extend([dn for i in range(maxlen - len(d1))])\n",
    "        m.append(d1)\n",
    "        num += 1\n",
    "    all_info.append(m)"
   ]
  },
  {
   "cell_type": "code",
   "execution_count": null,
   "metadata": {},
   "outputs": [],
   "source": [
    "data3 = pd.read_csv('.//3_pred.csv')  # 就是附件1\n",
    "data3 = data3.sort_index()  # 整理索引 防止索引乱序\n",
    "data_n3= pd.DataFrame(data3,columns =[\"user_id\",\"metrics\",\"ds\",\"value_avg\"])\n",
    "user_id_list3 = list(set(data3['user_id'].tolist()))\n",
    "print(data_n3.shape)\n",
    "print(data3.shape)\n"
   ]
  },
  {
   "cell_type": "code",
   "execution_count": null,
   "metadata": {},
   "outputs": [],
   "source": [
    "for user_id in tqdm(user_id_list3):\n",
    "    m = []\n",
    "    num = 0\n",
    "    for metric in metrics_list:\n",
    "        print(metric)\n",
    "        d1 = np.array(data3.loc[(data3['user_id'] == user_id) & (\n",
    "            data3['metrics'] == metric), 'value_avg']).tolist()\n",
    "        if len(d1)<2:\n",
    "            m.append(np.zeros(maxlen))\n",
    "            continue\n",
    "        dn = d1[-1]\n",
    "        d1.extend([dn for i in range(maxlen - len(d1))])\n",
    "        m.append(d1)\n",
    "        num += 1\n",
    "    \n",
    "    all_info.append(m)"
   ]
  },
  {
   "cell_type": "code",
   "execution_count": 72,
   "metadata": {},
   "outputs": [
    {
     "name": "stderr",
     "output_type": "stream",
     "text": [
      "100%|██████████| 432/432 [00:00<00:00, 12115.46it/s]\n"
     ]
    }
   ],
   "source": [
    "avr = np.array([132.98154882976834, 24758906.261347808, 16582517.988148645, 3301181.402374492, 6208886.564456862, 2171.129381420765, 134.63362559560593, 6276886.610543468])\n",
    "for i in tqdm(range(len(all_info))):\n",
    "    m = all_info[i]\n",
    "    m = m/np.atleast_2d(avr).T\n",
    "    all_info[i] = m"
   ]
  },
  {
   "cell_type": "code",
   "execution_count": 76,
   "metadata": {},
   "outputs": [
    {
     "name": "stdout",
     "output_type": "stream",
     "text": [
      "182\n"
     ]
    }
   ],
   "source": [
    "print(len(user_id_list3))\n",
    "label1 = np.zeros(250)\n",
    "label3 = np.ones(182)\n",
    "label = np.concatenate((label1,label3),axis=0)\n"
   ]
  },
  {
   "cell_type": "code",
   "execution_count": 82,
   "metadata": {},
   "outputs": [],
   "source": [
    "\n",
    "randnum = np.random.randint(0, 1234)\n",
    "np.random.seed(randnum)\n",
    "np.random.shuffle(all_info)\n",
    "np.random.seed(randnum)\n",
    "np.random.shuffle(label)\n",
    "np.save(\"data.npy\", all_info)\n",
    "np.save(\"label.npy\", label)"
   ]
  },
  {
   "cell_type": "code",
   "execution_count": 85,
   "metadata": {},
   "outputs": [
    {
     "name": "stdout",
     "output_type": "stream",
     "text": [
      "(432, 8, 128)\n"
     ]
    }
   ],
   "source": [
    "print(np.array(all_info).shape)"
   ]
  }
 ],
 "metadata": {
  "kernelspec": {
   "display_name": "Python 3.9.12 ('base')",
   "language": "python",
   "name": "python3"
  },
  "language_info": {
   "codemirror_mode": {
    "name": "ipython",
    "version": 3
   },
   "file_extension": ".py",
   "mimetype": "text/x-python",
   "name": "python",
   "nbconvert_exporter": "python",
   "pygments_lexer": "ipython3",
   "version": "3.9.12"
  },
  "orig_nbformat": 4,
  "vscode": {
   "interpreter": {
    "hash": "a64dfa8dec4324c548ba13aef4e7fc2405187e62d8845382a63d9f1a1909e03e"
   }
  }
 },
 "nbformat": 4,
 "nbformat_minor": 2
}
