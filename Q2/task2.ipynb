{
 "cells": [
  {
   "cell_type": "code",
   "execution_count": 1,
   "metadata": {},
   "outputs": [],
   "source": [
    "import pandas as pd\n",
    "import numpy as np\n",
    "import itertools\n",
    "from matplotlib import pyplot as plt\n",
    "import os\n",
    "from math import sqrt\n",
    "from tqdm import tqdm\n",
    "\n",
    "# average\n",
    "# ['1,1,1', '4,1,1', '4,1,3', '4,1,4', '13,1,6', '13,1,9', '13,1,7', '1,1,3']\n",
    "# [132.98154882976834, 24758906.261347808, 16582517.988148645, 3301181.402374492, 6208886.564456862, 2171.129381420765, 134.63362559560593, 6276886.610543468]\n",
    "avr = np.array([132.98154882976834, 24758906.261347808, 16582517.988148645, 3301181.402374492, 6208886.564456862, 2171.129381420765, 134.63362559560593, 6276886.610543468])\n",
    "\n"
   ]
  },
  {
   "cell_type": "code",
   "execution_count": 2,
   "metadata": {},
   "outputs": [],
   "source": [
    "data = pd.read_csv('.//1_pred.csv')  # 就是附件1\n",
    "data = data.sort_index()  # 整理索引 防止索引乱序\n",
    "data_n = pd.DataFrame(data,columns =[\"user_id\",\"metrics\",\"ds\",\"value_avg\"])\n",
    "user_id_list = list(set(data['user_id'].tolist()))\n",
    "metrics_list=[\"1,1,1\",\"4,1,1\",\"4,1,3\",\"4,1,4\",\"13,1,6\",\"13,1,9\",\"13,1,7\",\"1,1,3\"]"
   ]
  },
  {
   "cell_type": "markdown",
   "metadata": {},
   "source": [
    "load information"
   ]
  },
  {
   "cell_type": "code",
   "execution_count": 3,
   "metadata": {},
   "outputs": [
    {
     "name": "stderr",
     "output_type": "stream",
     "text": [
      "100%|██████████| 250/250 [02:18<00:00,  1.81it/s]\n"
     ]
    }
   ],
   "source": [
    "all_info = {}\n",
    "maxlen = 122\n",
    "metricNum = {}\n",
    "date = {}\n",
    "user_avr = {} #用户不同metrics的均值\n",
    "for user_id in tqdm(user_id_list):\n",
    "    m = []\n",
    "    num = 0\n",
    "    day = []\n",
    "    u_avr = []\n",
    "    for metric in metrics_list:\n",
    "        d1 = np.array(data_n.loc[(data['user_id'] == user_id) & (\n",
    "            data_n['metrics'] == metric), 'value_avg']).tolist()\n",
    "        day.append(len(d1) if len(d1)>1 else 1)\n",
    "        u_avr.append(np.mean(d1) if len(d1)>=1 else 1)\n",
    "        if len(d1)<2:\n",
    "            m.append(np.zeros(maxlen))\n",
    "            continue\n",
    "        dn = d1[-1]\n",
    "        d1.extend([dn for i in range(maxlen - len(d1))])\n",
    "        m.append(d1)\n",
    "        num += 1\n",
    "    all_info[user_id] = np.array(m)\n",
    "    metricNum[user_id] = num\n",
    "    date[user_id] = day\n",
    "    user_avr[user_id] = u_avr"
   ]
  },
  {
   "cell_type": "code",
   "execution_count": 5,
   "metadata": {},
   "outputs": [
    {
     "name": "stderr",
     "output_type": "stream",
     "text": [
      "100%|██████████| 250/250 [00:00<00:00, 94355.80it/s]\n"
     ]
    }
   ],
   "source": [
    "for user_id in tqdm(user_id_list):\n",
    "    m = all_info[user_id]\n",
    "    m = m/np.atleast_2d(avr).T\n",
    "    all_info[user_id] = m"
   ]
  },
  {
   "cell_type": "markdown",
   "metadata": {},
   "source": [
    "calculate the rapid drop"
   ]
  },
  {
   "cell_type": "code",
   "execution_count": 9,
   "metadata": {},
   "outputs": [
    {
     "name": "stderr",
     "output_type": "stream",
     "text": [
      "  0%|          | 0/250 [00:00<?, ?it/s]/tmp/ipykernel_11361/2344645246.py:10: RuntimeWarning: invalid value encountered in divide\n",
      "  mavr = np.sum(mask*dif,1)/np.sum(mask,1) #average of drop\n",
      "/tmp/ipykernel_11361/2344645246.py:8: RuntimeWarning: invalid value encountered in divide\n",
      "  dif = dif/np.atleast_2d(user_avr[user_id]).T\n",
      "100%|██████████| 250/250 [00:00<00:00, 13338.96it/s]\n"
     ]
    }
   ],
   "source": [
    "i = 0\n",
    "disparity = []\n",
    "for user_id in tqdm(user_id_list):\n",
    "    i+=1\n",
    "    m = all_info[user_id]\n",
    "    m = np.array(m)\n",
    "    dif = np.diff(m)\n",
    "    dif = dif/np.atleast_2d(user_avr[user_id]).T\n",
    "    mask = dif<0 #find the index where metric drops\n",
    "    mavr = np.sum(mask*dif,1)/np.sum(mask,1) #average of drop\n",
    "    mavr = np.atleast_2d(mavr)\n",
    "    dis = np.sum(dif*(dif<=mavr.T))/metricNum[user_id]\n",
    "    disparity.append(dis)\n",
    "disparity [78] =0\n",
    "disparity [186] =0\n",
    "disparity [204]= 0\n",
    "# disparity = (disparity - np.mean(disparity)) / np.std(disparity)\n"
   ]
  },
  {
   "cell_type": "markdown",
   "metadata": {},
   "source": [
    "calculate the drop"
   ]
  },
  {
   "cell_type": "code",
   "execution_count": 10,
   "metadata": {},
   "outputs": [
    {
     "name": "stderr",
     "output_type": "stream",
     "text": [
      "  0%|          | 0/250 [00:00<?, ?it/s]/tmp/ipykernel_11361/300207103.py:5: RuntimeWarning: divide by zero encountered in divide\n",
      "  tempd = tempd/np.atleast_2d(user_avr[user_id]).T\n",
      "/tmp/ipykernel_11361/300207103.py:5: RuntimeWarning: invalid value encountered in divide\n",
      "  tempd = tempd/np.atleast_2d(user_avr[user_id]).T\n",
      "100%|██████████| 250/250 [00:00<00:00, 42890.05it/s]"
     ]
    },
    {
     "name": "stdout",
     "output_type": "stream",
     "text": [
      "-6.059939967634196e-05\n",
      "0.00027062826932815556\n"
     ]
    },
    {
     "name": "stderr",
     "output_type": "stream",
     "text": [
      "\n"
     ]
    }
   ],
   "source": [
    "drop = []\n",
    "for user_id in tqdm(user_id_list):\n",
    "    m = all_info[user_id]\n",
    "    tempd = (m[...,-1]-m[...,0])/date[user_id]*220\n",
    "    tempd = tempd/np.atleast_2d(user_avr[user_id]).T\n",
    "    tempd = np.sum(tempd)/metricNum[user_id]\n",
    "    drop.append(tempd)\n",
    "drop[78] =0\n",
    "drop[186] =0\n",
    "drop[204]= 0\n",
    "drop = np.array(drop)\n",
    "drop[drop<-0.5] = -0.5+0.1*drop[drop<-0.5] \n",
    "drop[drop>0.5] = 0.5+0.1*drop[drop<-0.5] \n",
    "print(np.mean(drop))\n",
    "print(np.std(drop))\n",
    "drop = (drop -np.mean(drop)) /np.std(drop)\n",
    "\n",
    "\n",
    "    "
   ]
  },
  {
   "cell_type": "markdown",
   "metadata": {},
   "source": [
    "calculate the mean flow"
   ]
  },
  {
   "cell_type": "code",
   "execution_count": 11,
   "metadata": {},
   "outputs": [
    {
     "name": "stderr",
     "output_type": "stream",
     "text": [
      "100%|██████████| 250/250 [00:00<00:00, 42860.25it/s]\n"
     ]
    }
   ],
   "source": [
    "usermean = []\n",
    "usersum = []\n",
    "for user_id in tqdm(user_id_list):\n",
    "    usersum.append(np.sum(user_avr[user_id]))\n",
    "    usermean.append(np.sum(user_avr[user_id])/metricNum[user_id])\n",
    "usermean[78] =0\n",
    "usermean[168] =0\n",
    "usermean[204]= 0\n",
    "usermean = np.array(usermean)\n",
    "usermean[usermean>1e7] = 1e7+0.05*usermean[usermean>1e7]\n",
    "usermean = (usermean - np.mean(usermean)) / np.std(usermean)\n"
   ]
  },
  {
   "cell_type": "code",
   "execution_count": 13,
   "metadata": {},
   "outputs": [
    {
     "name": "stdout",
     "output_type": "stream",
     "text": [
      "(250, 2)\n"
     ]
    }
   ],
   "source": [
    "all_chara = np.vstack([usermean,0.7*np.array(drop)+0.3*np.array(disparity)])\n",
    "all_chara = all_chara.T\n",
    "print(all_chara.shape)"
   ]
  },
  {
   "cell_type": "markdown",
   "metadata": {},
   "source": [
    "cluster"
   ]
  },
  {
   "cell_type": "code",
   "execution_count": 15,
   "metadata": {},
   "outputs": [
    {
     "name": "stdout",
     "output_type": "stream",
     "text": [
      "here1\n",
      "here2\n",
      "[] []\n"
     ]
    },
    {
     "name": "stderr",
     "output_type": "stream",
     "text": [
      "/home/tracy/anaconda3/lib/python3.9/site-packages/matplotlib/collections.py:1084: UserWarning: Collection without array used. Make sure to specify the values to be colormapped via the `c` argument.\n",
      "  warnings.warn(\"Collection without array used. Make sure to \"\n"
     ]
    },
    {
     "data": {
      "image/png": "[encoded data removed]",
      "text/plain": [
       "<Figure size 640x480 with 1 Axes>"
      ]
     },
     "metadata": {},
     "output_type": "display_data"
    }
   ],
   "source": [
    "from pyclust import KMedoids\n",
    "import numpy as np\n",
    "from sklearn.manifold import TSNE\n",
    "import matplotlib.pyplot as plt\n",
    " \n",
    "'''构造示例数据集（加入少量脏数据）'''\n",
    "# data_TSNE = TSNE(learning_rate=100).fit_transform(all_chara)\n",
    "\n",
    "'''准备可视化需要的降维数据'''\n",
    "\n",
    "user = np.arange(250)\n",
    "'''对不同的k进行试探性K-medoids聚类并可视化'''\n",
    "ax=plt.figure()\n",
    "k = KMedoids(n_clusters=4,distance='euclidean',max_iter=1000).fit_predict(all_chara)\n",
    "colors = ([['red','blue','black','green'][i] for i in k])\n",
    "scatter = plt.scatter(usermean,0.7*np.array(drop)+0.3*np.array(disparity),c=colors,s=10,label=colors)\n",
    "# plt.title('K-medoids Resul of '.format(str(i)))\n",
    "print(*scatter.legend_elements())\n",
    "# plt.legend((\"SH\",\"ad\",\"ad\"),title=\"classes\")\n",
    "plt.show()"
   ]
  }
 ],
 "metadata": {
  "kernelspec": {
   "display_name": "Python 3.9.12 ('base')",
   "language": "python",
   "name": "python3"
  },
  "language_info": {
   "codemirror_mode": {
    "name": "ipython",
    "version": 3
   },
   "file_extension": ".py",
   "mimetype": "text/x-python",
   "name": "python",
   "nbconvert_exporter": "python",
   "pygments_lexer": "ipython3",
   "version": "3.9.12"
  },
  "orig_nbformat": 4,
  "vscode": {
   "interpreter": {
    "hash": "a64dfa8dec4324c548ba13aef4e7fc2405187e62d8845382a63d9f1a1909e03e"
   }
  }
 },
 "nbformat": 4,
 "nbformat_minor": 2
}
